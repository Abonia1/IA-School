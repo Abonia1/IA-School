{
 "cells": [
  {
   "cell_type": "markdown",
   "metadata": {},
   "source": [
    "#### Analyse de série temporelle avec Python"
   ]
  },
  {
   "cell_type": "code",
   "execution_count": 1,
   "metadata": {},
   "outputs": [],
   "source": [
    "import pandas as pd\n",
    "import pandas_datareader.data as web\n",
    "import numpy as np\n",
    "import matplotlib.pyplot as plt\n",
    "from sklearn.linear_model import LinearRegression\n",
    "%matplotlib inline"
   ]
  },
  {
   "cell_type": "markdown",
   "metadata": {},
   "source": [
    "Dans cet tutoriel, nous nous intéressons au cours de l'action ford sur le marché US. Pour ce faire, nous utiliserons la fonction **DataReader** de pandas."
   ]
  },
  {
   "cell_type": "code",
   "execution_count": 2,
   "metadata": {},
   "outputs": [],
   "source": [
    "#### Création d'un data frame avec les valeur de l'action Ford de 2012 à 2019\n",
    "ford = web.DataReader('F', data_source= \"yahoo\", start = \"3/14/2012\", end = \"3/21/2020\" )"
   ]
  },
  {
   "cell_type": "markdown",
   "metadata": {},
   "source": [
    "On obtient un dataframe de 6 colonnes pour chaque date de cotation (Index).\n",
    "* **Open** le prix d'ouverture\n",
    "* **High** le prix le plus haut\n",
    "* **Low** le prix le plus bas \n",
    "* **Close** le prix de clôture de l'action\n",
    "* **Adj Close** le prix ajusté de clôture (cf ouverture de capital)\n",
    "* **Volume** qui correspond au nombre d'actions échangé le jour"
   ]
  },
  {
   "cell_type": "code",
   "execution_count": 3,
   "metadata": {},
   "outputs": [
    {
     "data": {
      "text/html": [
       "<div>\n",
       "<style scoped>\n",
       "    .dataframe tbody tr th:only-of-type {\n",
       "        vertical-align: middle;\n",
       "    }\n",
       "\n",
       "    .dataframe tbody tr th {\n",
       "        vertical-align: top;\n",
       "    }\n",
       "\n",
       "    .dataframe thead th {\n",
       "        text-align: right;\n",
       "    }\n",
       "</style>\n",
       "<table border=\"1\" class=\"dataframe\">\n",
       "  <thead>\n",
       "    <tr style=\"text-align: right;\">\n",
       "      <th></th>\n",
       "      <th>High</th>\n",
       "      <th>Low</th>\n",
       "      <th>Open</th>\n",
       "      <th>Close</th>\n",
       "      <th>Volume</th>\n",
       "      <th>Adj Close</th>\n",
       "    </tr>\n",
       "    <tr>\n",
       "      <th>Date</th>\n",
       "      <th></th>\n",
       "      <th></th>\n",
       "      <th></th>\n",
       "      <th></th>\n",
       "      <th></th>\n",
       "      <th></th>\n",
       "    </tr>\n",
       "  </thead>\n",
       "  <tbody>\n",
       "    <tr>\n",
       "      <th>2020-03-16</th>\n",
       "      <td>5.22</td>\n",
       "      <td>5.00</td>\n",
       "      <td>5.04</td>\n",
       "      <td>5.01</td>\n",
       "      <td>110310900.0</td>\n",
       "      <td>5.01</td>\n",
       "    </tr>\n",
       "    <tr>\n",
       "      <th>2020-03-17</th>\n",
       "      <td>5.14</td>\n",
       "      <td>4.70</td>\n",
       "      <td>5.08</td>\n",
       "      <td>5.01</td>\n",
       "      <td>104233500.0</td>\n",
       "      <td>5.01</td>\n",
       "    </tr>\n",
       "    <tr>\n",
       "      <th>2020-03-18</th>\n",
       "      <td>4.84</td>\n",
       "      <td>4.10</td>\n",
       "      <td>4.75</td>\n",
       "      <td>4.50</td>\n",
       "      <td>125954700.0</td>\n",
       "      <td>4.50</td>\n",
       "    </tr>\n",
       "    <tr>\n",
       "      <th>2020-03-19</th>\n",
       "      <td>4.58</td>\n",
       "      <td>4.10</td>\n",
       "      <td>4.33</td>\n",
       "      <td>4.47</td>\n",
       "      <td>126603800.0</td>\n",
       "      <td>4.47</td>\n",
       "    </tr>\n",
       "    <tr>\n",
       "      <th>2020-03-20</th>\n",
       "      <td>4.75</td>\n",
       "      <td>4.25</td>\n",
       "      <td>4.54</td>\n",
       "      <td>4.33</td>\n",
       "      <td>129314000.0</td>\n",
       "      <td>4.33</td>\n",
       "    </tr>\n",
       "  </tbody>\n",
       "</table>\n",
       "</div>"
      ],
      "text/plain": [
       "            High   Low  Open  Close       Volume  Adj Close\n",
       "Date                                                       \n",
       "2020-03-16  5.22  5.00  5.04   5.01  110310900.0       5.01\n",
       "2020-03-17  5.14  4.70  5.08   5.01  104233500.0       5.01\n",
       "2020-03-18  4.84  4.10  4.75   4.50  125954700.0       4.50\n",
       "2020-03-19  4.58  4.10  4.33   4.47  126603800.0       4.47\n",
       "2020-03-20  4.75  4.25  4.54   4.33  129314000.0       4.33"
      ]
     },
     "execution_count": 3,
     "metadata": {},
     "output_type": "execute_result"
    }
   ],
   "source": [
    "ford.head(5)\n",
    "ford.tail(5) ### 5 dernière valeurs du cours"
   ]
  },
  {
   "cell_type": "code",
   "execution_count": 4,
   "metadata": {},
   "outputs": [
    {
     "data": {
      "text/plain": [
       "(2018, 6)"
      ]
     },
     "execution_count": 4,
     "metadata": {},
     "output_type": "execute_result"
    }
   ],
   "source": [
    "ford.shape #### 1777 valeurs pour l'interval choisie"
   ]
  },
  {
   "cell_type": "code",
   "execution_count": 5,
   "metadata": {},
   "outputs": [
    {
     "data": {
      "text/plain": [
       "High         8.818100e+00\n",
       "Low          8.576800e+00\n",
       "Open         8.699300e+00\n",
       "Close        8.689700e+00\n",
       "Volume       4.435150e+07\n",
       "Adj Close    7.947731e+00\n",
       "dtype: float64"
      ]
     },
     "execution_count": 5,
     "metadata": {},
     "output_type": "execute_result"
    }
   ],
   "source": [
    "##### Moyenne sur les 100 dernières valeurs pour avoir un ordre d'idée du prix de l'action\n",
    "\n",
    "import numpy as np \n",
    "\n",
    "len(ford.iloc[1677:1777,:]) #### 100 dernières valeurs\n",
    "\n",
    "np.mean(ford.iloc[1677:1777, :])"
   ]
  },
  {
   "cell_type": "markdown",
   "metadata": {},
   "source": [
    "En moyenne sur les 100 dernières valeurs, l'action ford vaut **8.70** dollars."
   ]
  },
  {
   "cell_type": "markdown",
   "metadata": {},
   "source": [
    "On crée une nouvelle variable qui correspond aux rangs de l'action dans notre data frame de la plus ancienne à la plus récente. On l'appelera \"**Num**\"."
   ]
  },
  {
   "cell_type": "code",
   "execution_count": 6,
   "metadata": {},
   "outputs": [],
   "source": [
    "ford[\"Num\"] = range(1, len(ford) +1) ##### Incrémente la valeur suivant son rang dans le dataset"
   ]
  },
  {
   "cell_type": "code",
   "execution_count": 7,
   "metadata": {},
   "outputs": [
    {
     "data": {
      "text/html": [
       "<div>\n",
       "<style scoped>\n",
       "    .dataframe tbody tr th:only-of-type {\n",
       "        vertical-align: middle;\n",
       "    }\n",
       "\n",
       "    .dataframe tbody tr th {\n",
       "        vertical-align: top;\n",
       "    }\n",
       "\n",
       "    .dataframe thead th {\n",
       "        text-align: right;\n",
       "    }\n",
       "</style>\n",
       "<table border=\"1\" class=\"dataframe\">\n",
       "  <thead>\n",
       "    <tr style=\"text-align: right;\">\n",
       "      <th></th>\n",
       "      <th>High</th>\n",
       "      <th>Low</th>\n",
       "      <th>Open</th>\n",
       "      <th>Close</th>\n",
       "      <th>Volume</th>\n",
       "      <th>Adj Close</th>\n",
       "      <th>Num</th>\n",
       "    </tr>\n",
       "    <tr>\n",
       "      <th>Date</th>\n",
       "      <th></th>\n",
       "      <th></th>\n",
       "      <th></th>\n",
       "      <th></th>\n",
       "      <th></th>\n",
       "      <th></th>\n",
       "      <th></th>\n",
       "    </tr>\n",
       "  </thead>\n",
       "  <tbody>\n",
       "    <tr>\n",
       "      <th>2020-03-16</th>\n",
       "      <td>5.22</td>\n",
       "      <td>5.00</td>\n",
       "      <td>5.04</td>\n",
       "      <td>5.01</td>\n",
       "      <td>110310900.0</td>\n",
       "      <td>5.01</td>\n",
       "      <td>2014</td>\n",
       "    </tr>\n",
       "    <tr>\n",
       "      <th>2020-03-17</th>\n",
       "      <td>5.14</td>\n",
       "      <td>4.70</td>\n",
       "      <td>5.08</td>\n",
       "      <td>5.01</td>\n",
       "      <td>104233500.0</td>\n",
       "      <td>5.01</td>\n",
       "      <td>2015</td>\n",
       "    </tr>\n",
       "    <tr>\n",
       "      <th>2020-03-18</th>\n",
       "      <td>4.84</td>\n",
       "      <td>4.10</td>\n",
       "      <td>4.75</td>\n",
       "      <td>4.50</td>\n",
       "      <td>125954700.0</td>\n",
       "      <td>4.50</td>\n",
       "      <td>2016</td>\n",
       "    </tr>\n",
       "    <tr>\n",
       "      <th>2020-03-19</th>\n",
       "      <td>4.58</td>\n",
       "      <td>4.10</td>\n",
       "      <td>4.33</td>\n",
       "      <td>4.47</td>\n",
       "      <td>126603800.0</td>\n",
       "      <td>4.47</td>\n",
       "      <td>2017</td>\n",
       "    </tr>\n",
       "    <tr>\n",
       "      <th>2020-03-20</th>\n",
       "      <td>4.75</td>\n",
       "      <td>4.25</td>\n",
       "      <td>4.54</td>\n",
       "      <td>4.33</td>\n",
       "      <td>129314000.0</td>\n",
       "      <td>4.33</td>\n",
       "      <td>2018</td>\n",
       "    </tr>\n",
       "  </tbody>\n",
       "</table>\n",
       "</div>"
      ],
      "text/plain": [
       "            High   Low  Open  Close       Volume  Adj Close   Num\n",
       "Date                                                             \n",
       "2020-03-16  5.22  5.00  5.04   5.01  110310900.0       5.01  2014\n",
       "2020-03-17  5.14  4.70  5.08   5.01  104233500.0       5.01  2015\n",
       "2020-03-18  4.84  4.10  4.75   4.50  125954700.0       4.50  2016\n",
       "2020-03-19  4.58  4.10  4.33   4.47  126603800.0       4.47  2017\n",
       "2020-03-20  4.75  4.25  4.54   4.33  129314000.0       4.33  2018"
      ]
     },
     "execution_count": 7,
     "metadata": {},
     "output_type": "execute_result"
    }
   ],
   "source": [
    "ford.tail()"
   ]
  },
  {
   "cell_type": "code",
   "execution_count": null,
   "metadata": {},
   "outputs": [],
   "source": []
  },
  {
   "cell_type": "code",
   "execution_count": 8,
   "metadata": {},
   "outputs": [
    {
     "data": {
      "image/png": "[encoded data removed]",
      "text/plain": [
       "<Figure size 432x288 with 1 Axes>"
      ]
     },
     "metadata": {},
     "output_type": "display_data"
    }
   ],
   "source": [
    "#### On trace le prix de l'action en fonction du temps\n",
    "\n",
    "def graph(x,y,data):\n",
    "    \n",
    "    \"\"\"\n",
    "        Graphique une variable en fonction de l'autre\n",
    "            Entrée: Nom colonne 1 (x), nom colonne 2 (y) et données (data)\n",
    "            \n",
    "            Sortie: Graphique\n",
    "    \"\"\"\n",
    "\n",
    "    graph = data.plot(\"Num\", \"Open\", legend = False, title = \"Action Ford\", color = (1,0,0));\n",
    "    graph.legend = None\n",
    "    graph.set_ylabel('Prix de l\\'action')\n",
    "    \n",
    "\n",
    "graph(\"Num\", \"Open\", ford)"
   ]
  },
  {
   "cell_type": "markdown",
   "metadata": {},
   "source": [
    "Dans cette partie, on ne sélectionnera qu'un dixième et un vingtième des données:"
   ]
  },
  {
   "cell_type": "markdown",
   "metadata": {},
   "source": [
    "**10 %** des données:"
   ]
  },
  {
   "cell_type": "code",
   "execution_count": 9,
   "metadata": {},
   "outputs": [],
   "source": [
    "un_dixieme = ford.sample(frac = .1, random_state = np.random.randint(10))"
   ]
  },
  {
   "cell_type": "code",
   "execution_count": 10,
   "metadata": {},
   "outputs": [],
   "source": [
    "#### De la même façon avec 5% des données\n",
    "\n",
    "un_vingtieme = ford.sample(frac = .05, random_state = np.random.randint(10))"
   ]
  },
  {
   "cell_type": "code",
   "execution_count": 11,
   "metadata": {},
   "outputs": [
    {
     "data": {
      "text/html": [
       "<div>\n",
       "<style scoped>\n",
       "    .dataframe tbody tr th:only-of-type {\n",
       "        vertical-align: middle;\n",
       "    }\n",
       "\n",
       "    .dataframe tbody tr th {\n",
       "        vertical-align: top;\n",
       "    }\n",
       "\n",
       "    .dataframe thead th {\n",
       "        text-align: right;\n",
       "    }\n",
       "</style>\n",
       "<table border=\"1\" class=\"dataframe\">\n",
       "  <thead>\n",
       "    <tr style=\"text-align: right;\">\n",
       "      <th></th>\n",
       "      <th>High</th>\n",
       "      <th>Low</th>\n",
       "      <th>Open</th>\n",
       "      <th>Close</th>\n",
       "      <th>Volume</th>\n",
       "      <th>Adj Close</th>\n",
       "      <th>Num</th>\n",
       "    </tr>\n",
       "    <tr>\n",
       "      <th>Date</th>\n",
       "      <th></th>\n",
       "      <th></th>\n",
       "      <th></th>\n",
       "      <th></th>\n",
       "      <th></th>\n",
       "      <th></th>\n",
       "      <th></th>\n",
       "    </tr>\n",
       "  </thead>\n",
       "  <tbody>\n",
       "    <tr>\n",
       "      <th>2017-03-16</th>\n",
       "      <td>12.72</td>\n",
       "      <td>12.590000</td>\n",
       "      <td>12.65</td>\n",
       "      <td>12.700000</td>\n",
       "      <td>28954700.0</td>\n",
       "      <td>10.447505</td>\n",
       "      <td>1260</td>\n",
       "    </tr>\n",
       "    <tr>\n",
       "      <th>2013-02-07</th>\n",
       "      <td>13.31</td>\n",
       "      <td>13.000000</td>\n",
       "      <td>13.26</td>\n",
       "      <td>13.070000</td>\n",
       "      <td>33987500.0</td>\n",
       "      <td>9.263282</td>\n",
       "      <td>227</td>\n",
       "    </tr>\n",
       "    <tr>\n",
       "      <th>2015-10-30</th>\n",
       "      <td>14.95</td>\n",
       "      <td>14.630000</td>\n",
       "      <td>14.74</td>\n",
       "      <td>14.810000</td>\n",
       "      <td>29225800.0</td>\n",
       "      <td>11.490621</td>\n",
       "      <td>915</td>\n",
       "    </tr>\n",
       "    <tr>\n",
       "      <th>2015-07-14</th>\n",
       "      <td>14.86</td>\n",
       "      <td>14.590000</td>\n",
       "      <td>14.71</td>\n",
       "      <td>14.810000</td>\n",
       "      <td>20830700.0</td>\n",
       "      <td>11.259813</td>\n",
       "      <td>838</td>\n",
       "    </tr>\n",
       "    <tr>\n",
       "      <th>2014-08-27</th>\n",
       "      <td>17.40</td>\n",
       "      <td>17.209999</td>\n",
       "      <td>17.23</td>\n",
       "      <td>17.360001</td>\n",
       "      <td>18221100.0</td>\n",
       "      <td>12.828933</td>\n",
       "      <td>618</td>\n",
       "    </tr>\n",
       "  </tbody>\n",
       "</table>\n",
       "</div>"
      ],
      "text/plain": [
       "             High        Low   Open      Close      Volume  Adj Close   Num\n",
       "Date                                                                       \n",
       "2017-03-16  12.72  12.590000  12.65  12.700000  28954700.0  10.447505  1260\n",
       "2013-02-07  13.31  13.000000  13.26  13.070000  33987500.0   9.263282   227\n",
       "2015-10-30  14.95  14.630000  14.74  14.810000  29225800.0  11.490621   915\n",
       "2015-07-14  14.86  14.590000  14.71  14.810000  20830700.0  11.259813   838\n",
       "2014-08-27  17.40  17.209999  17.23  17.360001  18221100.0  12.828933   618"
      ]
     },
     "execution_count": 11,
     "metadata": {},
     "output_type": "execute_result"
    }
   ],
   "source": [
    "un_dixieme.head()"
   ]
  },
  {
   "cell_type": "markdown",
   "metadata": {},
   "source": [
    "PB: Valeur ne sont pas dans l'ordre"
   ]
  },
  {
   "cell_type": "code",
   "execution_count": 12,
   "metadata": {},
   "outputs": [
    {
     "data": {
      "text/html": [
       "<div>\n",
       "<style scoped>\n",
       "    .dataframe tbody tr th:only-of-type {\n",
       "        vertical-align: middle;\n",
       "    }\n",
       "\n",
       "    .dataframe tbody tr th {\n",
       "        vertical-align: top;\n",
       "    }\n",
       "\n",
       "    .dataframe thead th {\n",
       "        text-align: right;\n",
       "    }\n",
       "</style>\n",
       "<table border=\"1\" class=\"dataframe\">\n",
       "  <thead>\n",
       "    <tr style=\"text-align: right;\">\n",
       "      <th></th>\n",
       "      <th>High</th>\n",
       "      <th>Low</th>\n",
       "      <th>Open</th>\n",
       "      <th>Close</th>\n",
       "      <th>Volume</th>\n",
       "      <th>Adj Close</th>\n",
       "      <th>Num</th>\n",
       "    </tr>\n",
       "    <tr>\n",
       "      <th>Date</th>\n",
       "      <th></th>\n",
       "      <th></th>\n",
       "      <th></th>\n",
       "      <th></th>\n",
       "      <th></th>\n",
       "      <th></th>\n",
       "      <th></th>\n",
       "    </tr>\n",
       "  </thead>\n",
       "  <tbody>\n",
       "    <tr>\n",
       "      <th>2017-03-16</th>\n",
       "      <td>12.72</td>\n",
       "      <td>12.590000</td>\n",
       "      <td>12.65</td>\n",
       "      <td>12.700000</td>\n",
       "      <td>28954700.0</td>\n",
       "      <td>10.447505</td>\n",
       "      <td>1260</td>\n",
       "    </tr>\n",
       "    <tr>\n",
       "      <th>2013-02-07</th>\n",
       "      <td>13.31</td>\n",
       "      <td>13.000000</td>\n",
       "      <td>13.26</td>\n",
       "      <td>13.070000</td>\n",
       "      <td>33987500.0</td>\n",
       "      <td>9.263282</td>\n",
       "      <td>227</td>\n",
       "    </tr>\n",
       "    <tr>\n",
       "      <th>2015-10-30</th>\n",
       "      <td>14.95</td>\n",
       "      <td>14.630000</td>\n",
       "      <td>14.74</td>\n",
       "      <td>14.810000</td>\n",
       "      <td>29225800.0</td>\n",
       "      <td>11.490621</td>\n",
       "      <td>915</td>\n",
       "    </tr>\n",
       "    <tr>\n",
       "      <th>2015-07-14</th>\n",
       "      <td>14.86</td>\n",
       "      <td>14.590000</td>\n",
       "      <td>14.71</td>\n",
       "      <td>14.810000</td>\n",
       "      <td>20830700.0</td>\n",
       "      <td>11.259813</td>\n",
       "      <td>838</td>\n",
       "    </tr>\n",
       "    <tr>\n",
       "      <th>2014-08-27</th>\n",
       "      <td>17.40</td>\n",
       "      <td>17.209999</td>\n",
       "      <td>17.23</td>\n",
       "      <td>17.360001</td>\n",
       "      <td>18221100.0</td>\n",
       "      <td>12.828933</td>\n",
       "      <td>618</td>\n",
       "    </tr>\n",
       "  </tbody>\n",
       "</table>\n",
       "</div>"
      ],
      "text/plain": [
       "             High        Low   Open      Close      Volume  Adj Close   Num\n",
       "Date                                                                       \n",
       "2017-03-16  12.72  12.590000  12.65  12.700000  28954700.0  10.447505  1260\n",
       "2013-02-07  13.31  13.000000  13.26  13.070000  33987500.0   9.263282   227\n",
       "2015-10-30  14.95  14.630000  14.74  14.810000  29225800.0  11.490621   915\n",
       "2015-07-14  14.86  14.590000  14.71  14.810000  20830700.0  11.259813   838\n",
       "2014-08-27  17.40  17.209999  17.23  17.360001  18221100.0  12.828933   618"
      ]
     },
     "execution_count": 12,
     "metadata": {},
     "output_type": "execute_result"
    }
   ],
   "source": [
    "un_dixieme.head()"
   ]
  },
  {
   "cell_type": "code",
   "execution_count": 13,
   "metadata": {
    "scrolled": true
   },
   "outputs": [],
   "source": [
    "#### On enleve l'index de ce data frame\n",
    "\n",
    "un_dixieme.index.name = None\n",
    "un_dixieme.head()####Plus le nom de l'index Date\n",
    "\n",
    "un_vingtieme.index.name = None"
   ]
  },
  {
   "cell_type": "code",
   "execution_count": 14,
   "metadata": {},
   "outputs": [],
   "source": [
    "#### On tri les valeurs par Num\n",
    "\n",
    "un_dixieme = un_dixieme.sort_values(by = [\"Num\"], ascending = [True])\n",
    "un_dixieme[[\"Open\", \"Close\", \"Num\"]]#### Double crôchet\n",
    "un_vingtieme = un_vingtieme.sort_values(by = [\"Num\"], ascending = [True])"
   ]
  },
  {
   "cell_type": "code",
   "execution_count": 15,
   "metadata": {},
   "outputs": [
    {
     "data": {
      "image/png": "[encoded data removed]",
      "text/plain": [
       "<Figure size 432x288 with 1 Axes>"
      ]
     },
     "metadata": {},
     "output_type": "display_data"
    },
    {
     "data": {
      "image/png": "[encoded data removed]",
      "text/plain": [
       "<Figure size 432x288 with 1 Axes>"
      ]
     },
     "metadata": {},
     "output_type": "display_data"
    }
   ],
   "source": [
    "#### On trace le graphique original par rapport à l'echantillon de données\n",
    "\n",
    "#### Un dixième\n",
    "graph(\"Num\", \"Open\", un_dixieme)\n",
    "\n",
    "#### Un vingtième\n",
    "graph(\"Num\", \"Open\", un_vingtieme)\n"
   ]
  },
  {
   "cell_type": "code",
   "execution_count": 16,
   "metadata": {},
   "outputs": [
    {
     "data": {
      "image/png": "[encoded data removed]",
      "text/plain": [
       "<Figure size 720x360 with 3 Axes>"
      ]
     },
     "metadata": {},
     "output_type": "display_data"
    }
   ],
   "source": [
    "#### On affiche les deux graphiques en même temps\n",
    "\n",
    "#### Sous graphique d'une ligne et 2 colonnes\n",
    "\n",
    "\n",
    "def trois_graph(x, y):\n",
    "    \n",
    "    \"\"\"\n",
    "        Fonction qui retourne trois graphiques (Action ford, 10% des valeurs aléatoires et 5% des valeurs)\n",
    "        \n",
    "        Entrée: Nom de colonne x et y\n",
    "        \n",
    "        Sortie: Trois graphiques\n",
    "    \n",
    "    \"\"\"\n",
    "    #### Une ligne et trois tableaux \n",
    "    fig, axes = plt.subplots(nrows = 1, ncols = 3, figsize = (10,5))\n",
    "    #### Affichage premier tableau \n",
    "    axes[0].plot(x, y, data = ford)\n",
    "    axes[0].set_title(\"Action Ford total\")\n",
    "    \n",
    "    #### Affichage second tableau 10%\n",
    "    axes[1].plot(x, y, data = un_dixieme)\n",
    "    axes[1].set_title(\"Echantillon 10%\")\n",
    "    \n",
    "    #### Affichage troisième tableau 5%\n",
    "    axes[2].plot(x, y, data = un_vingtieme)\n",
    "    axes[2].set_title(\"Echantillon 5%\")\n",
    "\n",
    "\n",
    "trois_graph(\"Num\", \"Open\" ) #### Appel de la fonction"
   ]
  },
  {
   "cell_type": "code",
   "execution_count": 17,
   "metadata": {},
   "outputs": [
    {
     "data": {
      "text/html": [
       "<div>\n",
       "<style scoped>\n",
       "    .dataframe tbody tr th:only-of-type {\n",
       "        vertical-align: middle;\n",
       "    }\n",
       "\n",
       "    .dataframe tbody tr th {\n",
       "        vertical-align: top;\n",
       "    }\n",
       "\n",
       "    .dataframe thead th {\n",
       "        text-align: right;\n",
       "    }\n",
       "</style>\n",
       "<table border=\"1\" class=\"dataframe\">\n",
       "  <thead>\n",
       "    <tr style=\"text-align: right;\">\n",
       "      <th></th>\n",
       "      <th>Date</th>\n",
       "      <th>High</th>\n",
       "      <th>Low</th>\n",
       "      <th>Open</th>\n",
       "      <th>Close</th>\n",
       "      <th>Volume</th>\n",
       "      <th>Adj Close</th>\n",
       "      <th>Num</th>\n",
       "    </tr>\n",
       "  </thead>\n",
       "  <tbody>\n",
       "    <tr>\n",
       "      <th>0</th>\n",
       "      <td>2012-03-14</td>\n",
       "      <td>12.90</td>\n",
       "      <td>12.63</td>\n",
       "      <td>12.64</td>\n",
       "      <td>12.88</td>\n",
       "      <td>47578500.0</td>\n",
       "      <td>8.930695</td>\n",
       "      <td>1</td>\n",
       "    </tr>\n",
       "    <tr>\n",
       "      <th>1</th>\n",
       "      <td>2012-03-15</td>\n",
       "      <td>13.04</td>\n",
       "      <td>12.83</td>\n",
       "      <td>12.90</td>\n",
       "      <td>12.90</td>\n",
       "      <td>55286600.0</td>\n",
       "      <td>8.944561</td>\n",
       "      <td>2</td>\n",
       "    </tr>\n",
       "    <tr>\n",
       "      <th>2</th>\n",
       "      <td>2012-03-16</td>\n",
       "      <td>12.90</td>\n",
       "      <td>12.51</td>\n",
       "      <td>12.86</td>\n",
       "      <td>12.51</td>\n",
       "      <td>77119600.0</td>\n",
       "      <td>8.674147</td>\n",
       "      <td>3</td>\n",
       "    </tr>\n",
       "  </tbody>\n",
       "</table>\n",
       "</div>"
      ],
      "text/plain": [
       "        Date   High    Low   Open  Close      Volume  Adj Close  Num\n",
       "0 2012-03-14  12.90  12.63  12.64  12.88  47578500.0   8.930695    1\n",
       "1 2012-03-15  13.04  12.83  12.90  12.90  55286600.0   8.944561    2\n",
       "2 2012-03-16  12.90  12.51  12.86  12.51  77119600.0   8.674147    3"
      ]
     },
     "execution_count": 17,
     "metadata": {},
     "output_type": "execute_result"
    }
   ],
   "source": [
    "#### Modification de l'index pour que ce soit la variable \"Num\"\n",
    "\n",
    "ford = ford.reset_index()\n",
    "ford.head(3)\n",
    "\n",
    "# ford.index = ford[\"Num\"]\n",
    "# ford"
   ]
  },
  {
   "cell_type": "markdown",
   "metadata": {},
   "source": [
    "On génère une moyenne mobile avec une fenètre de 80 cotations. On place les résultats dans la colonne \"**Moyenne mobile**\"."
   ]
  },
  {
   "cell_type": "code",
   "execution_count": 18,
   "metadata": {},
   "outputs": [
    {
     "data": {
      "text/html": [
       "<div>\n",
       "<style scoped>\n",
       "    .dataframe tbody tr th:only-of-type {\n",
       "        vertical-align: middle;\n",
       "    }\n",
       "\n",
       "    .dataframe tbody tr th {\n",
       "        vertical-align: top;\n",
       "    }\n",
       "\n",
       "    .dataframe thead th {\n",
       "        text-align: right;\n",
       "    }\n",
       "</style>\n",
       "<table border=\"1\" class=\"dataframe\">\n",
       "  <thead>\n",
       "    <tr style=\"text-align: right;\">\n",
       "      <th></th>\n",
       "      <th>Open</th>\n",
       "      <th>Moyenne_Mobile</th>\n",
       "    </tr>\n",
       "  </thead>\n",
       "  <tbody>\n",
       "    <tr>\n",
       "      <th>2013</th>\n",
       "      <td>5.04</td>\n",
       "      <td>8.491250</td>\n",
       "    </tr>\n",
       "    <tr>\n",
       "      <th>2014</th>\n",
       "      <td>5.08</td>\n",
       "      <td>8.442375</td>\n",
       "    </tr>\n",
       "    <tr>\n",
       "      <th>2015</th>\n",
       "      <td>4.75</td>\n",
       "      <td>8.390750</td>\n",
       "    </tr>\n",
       "    <tr>\n",
       "      <th>2016</th>\n",
       "      <td>4.33</td>\n",
       "      <td>8.335250</td>\n",
       "    </tr>\n",
       "    <tr>\n",
       "      <th>2017</th>\n",
       "      <td>4.54</td>\n",
       "      <td>8.282000</td>\n",
       "    </tr>\n",
       "  </tbody>\n",
       "</table>\n",
       "</div>"
      ],
      "text/plain": [
       "      Open  Moyenne_Mobile\n",
       "2013  5.04        8.491250\n",
       "2014  5.08        8.442375\n",
       "2015  4.75        8.390750\n",
       "2016  4.33        8.335250\n",
       "2017  4.54        8.282000"
      ]
     },
     "execution_count": 18,
     "metadata": {},
     "output_type": "execute_result"
    }
   ],
   "source": [
    "#### Moyenne mobile \n",
    "\n",
    "#### Moyenne mobile à fenètre de 80\n",
    "ford[\"Moyenne_Mobile\"] = ford[\"Open\"].rolling(window =80).mean()\n",
    "\n",
    "ford[[\"Open\", \"Moyenne_Mobile\"]].tail(5) #### 5 dernières colonnes de notre dataset\n",
    "\n",
    "#ford"
   ]
  },
  {
   "cell_type": "code",
   "execution_count": 19,
   "metadata": {},
   "outputs": [
    {
     "data": {
      "text/plain": [
       "Text(0.5,1,'Moyenne Mobile à 80 cotations')"
      ]
     },
     "execution_count": 19,
     "metadata": {},
     "output_type": "execute_result"
    },
    {
     "data": {
      "image/png": "[encoded data removed]",
      "text/plain": [
       "<Figure size 720x360 with 4 Axes>"
      ]
     },
     "metadata": {},
     "output_type": "display_data"
    }
   ],
   "source": [
    "#### On affiche les 4 graphiques en même temps\n",
    "\n",
    "#### Sous graphique d'une ligne et 2 colonnes\n",
    "fig, axes = plt.subplots(nrows = 1, ncols = 4, figsize = (10,5))\n",
    "\n",
    "axes[0].plot(\"Num\", \"Open\", data = ford)\n",
    "axes[0].set_title(\"Original Plot\")\n",
    "axes[1].plot(\"Num\", \"Open\", data = un_dixieme)\n",
    "axes[1].set_title(\"Echantillon 10%\")\n",
    "axes[2].plot(\"Num\", \"Open\", data = un_vingtieme)\n",
    "axes[2].set_title(\"Echantillon 5%\")\n",
    "axes[3].plot(\"Num\", \"Moyenne_Mobile\", data = ford)\n",
    "axes[3].set_title(\"Moyenne Mobile à 80 cotations\")"
   ]
  },
  {
   "cell_type": "markdown",
   "metadata": {},
   "source": [
    "La moyenne mobile semble bien fitter les graphiques précedents. Qu'en est t-il si nous les superposons?"
   ]
  },
  {
   "cell_type": "code",
   "execution_count": 20,
   "metadata": {},
   "outputs": [],
   "source": [
    "##### On affiche les données originale et les données lissée sur le même graphique\n",
    "\n",
    "\n",
    "def sup_graph(x, y1, y2):\n",
    "    \"\"\"\n",
    "        Entrée: Nombre de cotation(x), prix moyenne mobile (y1), prix high (y2)\n",
    "        \n",
    "        Sortie: Graphique\n",
    "    \n",
    "    \"\"\"\n",
    "    fig = plt.figure()\n",
    "    ax = fig.add_subplot(111);\n",
    "    #### Graphique 1: Moyenne mobile\n",
    "    ax.plot(ford[x], ford[y1], color = (0,0,0), linewidth = 4, alpha =.9, label = \"Lissé MM\")\n",
    "    \n",
    "    #### Graphique 2: Plus haut de cotation\n",
    "    ax.plot(ford[x], ford[y2], color = (1,0,0), label = \"Original\")\n",
    "\n",
    "    ax.set_title('Les données originales et lissées')\n",
    "\n",
    "    ax.set_xlabel('Num')\n",
    "    ax.set_ylabel(\"Prix\")\n",
    "    ax.legend(loc = \"lower right\")"
   ]
  },
  {
   "cell_type": "code",
   "execution_count": 21,
   "metadata": {},
   "outputs": [
    {
     "data": {
      "image/png": "[encoded data removed]",
      "text/plain": [
       "<Figure size 432x288 with 1 Axes>"
      ]
     },
     "metadata": {},
     "output_type": "display_data"
    }
   ],
   "source": [
    "sup_graph(\"Num\", \"Moyenne_Mobile\", \"High\")"
   ]
  },
  {
   "cell_type": "markdown",
   "metadata": {},
   "source": [
    "Le même code mais avec les dates en abscisses:"
   ]
  },
  {
   "cell_type": "code",
   "execution_count": 22,
   "metadata": {},
   "outputs": [
    {
     "data": {
      "image/png": "[encoded data removed]",
      "text/plain": [
       "<Figure size 432x288 with 1 Axes>"
      ]
     },
     "metadata": {},
     "output_type": "display_data"
    }
   ],
   "source": [
    "sup_graph(\"Date\", \"Moyenne_Mobile\", \"High\")"
   ]
  },
  {
   "cell_type": "markdown",
   "metadata": {},
   "source": [
    "On prendra ici les cotations entre 200 et 400."
   ]
  },
  {
   "cell_type": "code",
   "execution_count": 25,
   "metadata": {},
   "outputs": [],
   "source": [
    "#### Cotation entre 500 et 1000\n",
    "Num_ford = ford[(ford[\"Num\"] >= 500) & (ford[\"Num\"]<=1000)]"
   ]
  },
  {
   "cell_type": "code",
   "execution_count": null,
   "metadata": {},
   "outputs": [],
   "source": [
    "#Num_ford = ford[(ford[\"Num\"] >= 200) & (ford[\"Num\"]<=400)]"
   ]
  },
  {
   "cell_type": "code",
   "execution_count": null,
   "metadata": {
    "scrolled": true
   },
   "outputs": [],
   "source": [
    "Num_ford"
   ]
  },
  {
   "cell_type": "code",
   "execution_count": 26,
   "metadata": {},
   "outputs": [
    {
     "name": "stderr",
     "output_type": "stream",
     "text": [
      "C:\\Users\\ABONIA\\Anaconda3\\lib\\site-packages\\ipykernel_launcher.py:2: SettingWithCopyWarning: \n",
      "A value is trying to be set on a copy of a slice from a DataFrame.\n",
      "Try using .loc[row_indexer,col_indexer] = value instead\n",
      "\n",
      "See the caveats in the documentation: http://pandas.pydata.org/pandas-docs/stable/indexing.html#indexing-view-versus-copy\n",
      "  \n"
     ]
    }
   ],
   "source": [
    "#test and train split based on date\n",
    "Num_ford['Date'] = pd.to_datetime(Num_ford['Date'])\n",
    "train=Num_ford['Date'].dt.year<2019\n",
    "test=Num_ford['Date'].dt.year>2019\n",
    "\n",
    "fordTrain=Num_ford[train]\n",
    "fordTest=Num_ford[train]"
   ]
  },
  {
   "cell_type": "markdown",
   "metadata": {},
   "source": [
    "Dans cette partie, on cherchera à prédire notre moyenne mobile à l'aide d'une régression linéaire"
   ]
  },
  {
   "cell_type": "code",
   "execution_count": null,
   "metadata": {},
   "outputs": [],
   "source": []
  },
  {
   "cell_type": "code",
   "execution_count": 28,
   "metadata": {},
   "outputs": [
    {
     "name": "stdout",
     "output_type": "stream",
     "text": [
      "y= 0.44 x + 8.81\n"
     ]
    }
   ],
   "source": [
    "#### Regression Linéaire\n",
    "\n",
    "from sklearn.linear_model import LinearRegression\n",
    "\n",
    "#### fit(X,y)\n",
    "\n",
    "#### On cherche a predire une moyenne mobile\n",
    "\n",
    "model = LinearRegression().fit(fordTrain[[\"Close\"]], fordTrain[[\"Moyenne_Mobile\"]])\n",
    "\n",
    "\n",
    "m = model.coef_[0\n",
    "               ]\n",
    "b = model.intercept_\n",
    "\n",
    "#### Equation de la ligne\n",
    "\n",
    "print(\"y=\", round(m[0], 2), \"x +\", round(b[0],2)) ##### Equation de la droite"
   ]
  },
  {
   "cell_type": "markdown",
   "metadata": {},
   "source": [
    "<math>\n",
    "Y = X \\beta + \\epsilon\n",
    "</math>"
   ]
  },
  {
   "cell_type": "code",
   "execution_count": 29,
   "metadata": {},
   "outputs": [
    {
     "data": {
      "text/plain": [
       "array([[15.74328834],\n",
       "       [15.73556038],\n",
       "       [15.72652628],\n",
       "       [15.71591395],\n",
       "       [15.70562814],\n",
       "       [15.69637636],\n",
       "       [15.68886609],\n",
       "       [15.68037622],\n",
       "       [15.67281151],\n",
       "       [15.6639951 ]])"
      ]
     },
     "execution_count": 29,
     "metadata": {},
     "output_type": "execute_result"
    }
   ],
   "source": [
    "#### Prédiction de la moyenne mobile du cours d'ouverture\n",
    "\n",
    "prediction = model.predict(fordTest[[\"Moyenne_Mobile\"]])\n",
    "prediction[:10]"
   ]
  },
  {
   "cell_type": "code",
   "execution_count": 30,
   "metadata": {},
   "outputs": [
    {
     "data": {
      "text/html": [
       "<div>\n",
       "<style scoped>\n",
       "    .dataframe tbody tr th:only-of-type {\n",
       "        vertical-align: middle;\n",
       "    }\n",
       "\n",
       "    .dataframe tbody tr th {\n",
       "        vertical-align: top;\n",
       "    }\n",
       "\n",
       "    .dataframe thead th {\n",
       "        text-align: right;\n",
       "    }\n",
       "</style>\n",
       "<table border=\"1\" class=\"dataframe\">\n",
       "  <thead>\n",
       "    <tr style=\"text-align: right;\">\n",
       "      <th></th>\n",
       "      <th>Pred</th>\n",
       "    </tr>\n",
       "  </thead>\n",
       "  <tbody>\n",
       "    <tr>\n",
       "      <th>499</th>\n",
       "      <td>15.743288</td>\n",
       "    </tr>\n",
       "    <tr>\n",
       "      <th>500</th>\n",
       "      <td>15.735560</td>\n",
       "    </tr>\n",
       "    <tr>\n",
       "      <th>501</th>\n",
       "      <td>15.726526</td>\n",
       "    </tr>\n",
       "    <tr>\n",
       "      <th>502</th>\n",
       "      <td>15.715914</td>\n",
       "    </tr>\n",
       "    <tr>\n",
       "      <th>503</th>\n",
       "      <td>15.705628</td>\n",
       "    </tr>\n",
       "  </tbody>\n",
       "</table>\n",
       "</div>"
      ],
      "text/plain": [
       "          Pred\n",
       "499  15.743288\n",
       "500  15.735560\n",
       "501  15.726526\n",
       "502  15.715914\n",
       "503  15.705628"
      ]
     },
     "execution_count": 30,
     "metadata": {},
     "output_type": "execute_result"
    }
   ],
   "source": [
    "##### On crée un nouveau data frame avec les valeurs prédites\n",
    "prediction = pd.DataFrame(data = prediction, index = Num_ford.index.values, columns = [\"Pred\"])\n",
    "\n",
    "prediction.head(5)  #### Affichage des 5 valeurs"
   ]
  },
  {
   "cell_type": "code",
   "execution_count": 31,
   "metadata": {},
   "outputs": [
    {
     "data": {
      "text/html": [
       "<div>\n",
       "<style scoped>\n",
       "    .dataframe tbody tr th:only-of-type {\n",
       "        vertical-align: middle;\n",
       "    }\n",
       "\n",
       "    .dataframe tbody tr th {\n",
       "        vertical-align: top;\n",
       "    }\n",
       "\n",
       "    .dataframe thead th {\n",
       "        text-align: right;\n",
       "    }\n",
       "</style>\n",
       "<table border=\"1\" class=\"dataframe\">\n",
       "  <thead>\n",
       "    <tr style=\"text-align: right;\">\n",
       "      <th></th>\n",
       "      <th>Date</th>\n",
       "      <th>High</th>\n",
       "      <th>Low</th>\n",
       "      <th>Open</th>\n",
       "      <th>Close</th>\n",
       "      <th>Volume</th>\n",
       "      <th>Adj Close</th>\n",
       "      <th>Num</th>\n",
       "      <th>Moyenne_Mobile</th>\n",
       "      <th>Pred</th>\n",
       "    </tr>\n",
       "  </thead>\n",
       "  <tbody>\n",
       "    <tr>\n",
       "      <th>499</th>\n",
       "      <td>2014-03-11</td>\n",
       "      <td>15.52</td>\n",
       "      <td>15.17</td>\n",
       "      <td>15.49</td>\n",
       "      <td>15.30</td>\n",
       "      <td>34612800.0</td>\n",
       "      <td>11.139113</td>\n",
       "      <td>500</td>\n",
       "      <td>15.925000</td>\n",
       "      <td>15.743288</td>\n",
       "    </tr>\n",
       "    <tr>\n",
       "      <th>500</th>\n",
       "      <td>2014-03-12</td>\n",
       "      <td>15.42</td>\n",
       "      <td>15.15</td>\n",
       "      <td>15.24</td>\n",
       "      <td>15.40</td>\n",
       "      <td>31250500.0</td>\n",
       "      <td>11.211920</td>\n",
       "      <td>501</td>\n",
       "      <td>15.907250</td>\n",
       "      <td>15.735560</td>\n",
       "    </tr>\n",
       "    <tr>\n",
       "      <th>501</th>\n",
       "      <td>2014-03-13</td>\n",
       "      <td>15.46</td>\n",
       "      <td>15.10</td>\n",
       "      <td>15.46</td>\n",
       "      <td>15.18</td>\n",
       "      <td>34344100.0</td>\n",
       "      <td>11.051748</td>\n",
       "      <td>502</td>\n",
       "      <td>15.886500</td>\n",
       "      <td>15.726526</td>\n",
       "    </tr>\n",
       "    <tr>\n",
       "      <th>502</th>\n",
       "      <td>2014-03-14</td>\n",
       "      <td>15.25</td>\n",
       "      <td>15.06</td>\n",
       "      <td>15.18</td>\n",
       "      <td>15.08</td>\n",
       "      <td>26943300.0</td>\n",
       "      <td>10.978944</td>\n",
       "      <td>503</td>\n",
       "      <td>15.862125</td>\n",
       "      <td>15.715914</td>\n",
       "    </tr>\n",
       "    <tr>\n",
       "      <th>503</th>\n",
       "      <td>2014-03-17</td>\n",
       "      <td>15.33</td>\n",
       "      <td>15.16</td>\n",
       "      <td>15.18</td>\n",
       "      <td>15.28</td>\n",
       "      <td>26929100.0</td>\n",
       "      <td>11.124554</td>\n",
       "      <td>504</td>\n",
       "      <td>15.838500</td>\n",
       "      <td>15.705628</td>\n",
       "    </tr>\n",
       "  </tbody>\n",
       "</table>\n",
       "</div>"
      ],
      "text/plain": [
       "          Date   High    Low   Open  Close      Volume  Adj Close  Num  \\\n",
       "499 2014-03-11  15.52  15.17  15.49  15.30  34612800.0  11.139113  500   \n",
       "500 2014-03-12  15.42  15.15  15.24  15.40  31250500.0  11.211920  501   \n",
       "501 2014-03-13  15.46  15.10  15.46  15.18  34344100.0  11.051748  502   \n",
       "502 2014-03-14  15.25  15.06  15.18  15.08  26943300.0  10.978944  503   \n",
       "503 2014-03-17  15.33  15.16  15.18  15.28  26929100.0  11.124554  504   \n",
       "\n",
       "     Moyenne_Mobile       Pred  \n",
       "499       15.925000  15.743288  \n",
       "500       15.907250  15.735560  \n",
       "501       15.886500  15.726526  \n",
       "502       15.862125  15.715914  \n",
       "503       15.838500  15.705628  "
      ]
     },
     "execution_count": 31,
     "metadata": {},
     "output_type": "execute_result"
    }
   ],
   "source": [
    "#### Jointure de la prediction avec l'ancienne table\n",
    "jointure = Num_ford.join(prediction, how = \"inner\") \n",
    "jointure.head(5)"
   ]
  },
  {
   "cell_type": "code",
   "execution_count": 32,
   "metadata": {},
   "outputs": [
    {
     "data": {
      "text/plain": [
       "<matplotlib.legend.Legend at 0x1b6f1529748>"
      ]
     },
     "execution_count": 32,
     "metadata": {},
     "output_type": "execute_result"
    },
    {
     "data": {
      "image/png": "[encoded data removed]",
      "text/plain": [
       "<Figure size 432x288 with 1 Axes>"
      ]
     },
     "metadata": {},
     "output_type": "display_data"
    }
   ],
   "source": [
    "#### Affichage de la moyenne mobile et de la prédiction\n",
    "\n",
    "fig = plt.figure()\n",
    "ax =fig.add_subplot(111)\n",
    "#### La variable d'ouverture\n",
    "ax.plot(jointure[\"Num\"], jointure[\"Moyenne_Mobile\"], color = (0,0,0), linewidth = 4, alpha = .9,label = \"Moyenne mobile\")\n",
    "#### La prédiction\n",
    "ax.plot(jointure[\"Num\"], jointure[\"Pred\"], color = (1,0,0), label = \"Prediction\")\n",
    "ax.set_title(\"Moyenne mobile vs Régression linéaire\")\n",
    "ax.set_xlabel(\"Num\")\n",
    "ax.set_ylabel(\"Prix\")\n",
    "ax.legend(loc=\"lower right\")"
   ]
  },
  {
   "cell_type": "code",
   "execution_count": 33,
   "metadata": {},
   "outputs": [
    {
     "data": {
      "text/plain": [
       "0.666224520203802"
      ]
     },
     "execution_count": 33,
     "metadata": {},
     "output_type": "execute_result"
    }
   ],
   "source": [
    "import sklearn\n",
    "\n",
    "r_carre = sklearn.metrics.r2_score(jointure[\"Moyenne_Mobile\"],jointure[\"Pred\"], multioutput = \"uniform_average\")\n",
    "r_carre"
   ]
  },
  {
   "cell_type": "code",
   "execution_count": 34,
   "metadata": {},
   "outputs": [
    {
     "name": "stdout",
     "output_type": "stream",
     "text": [
      "scores = [ 0.13829673 -2.95650598 -0.9398207   0.42220266 -6.99723207]\n"
     ]
    }
   ],
   "source": [
    "### Check the performance of the Prediction\n",
    "from sklearn.model_selection import cross_val_score\n",
    "scores = cross_val_score(model, Num_ford[[\"Close\"]],  model.predict(Num_ford[[\"Moyenne_Mobile\"]]), cv=5)\n",
    "print(\"scores = \" + str(scores))"
   ]
  },
  {
   "cell_type": "code",
   "execution_count": 35,
   "metadata": {},
   "outputs": [],
   "source": [
    "from sklearn.model_selection import train_test_split\n",
    "X = Num_ford[['Close','Open']]\n",
    "y = Num_ford[['Moyenne_Mobile']]\n",
    "X_train, X_test, y_train, y_test = train_test_split(X, y, test_size=0.30)"
   ]
  },
  {
   "cell_type": "code",
   "execution_count": 36,
   "metadata": {},
   "outputs": [],
   "source": [
    "from sklearn.linear_model import LinearRegression\n",
    "# Create model\n",
    "linreg = LinearRegression()\n",
    "linreg.fit(X_train, y_train)\n",
    "# Calculate our y hat (how our model performs against the test data held off)\n",
    "y_hat_test = linreg.predict(X_test)"
   ]
  },
  {
   "cell_type": "code",
   "execution_count": 37,
   "metadata": {
    "scrolled": true
   },
   "outputs": [
    {
     "data": {
      "text/html": [
       "<div>\n",
       "<style scoped>\n",
       "    .dataframe tbody tr th:only-of-type {\n",
       "        vertical-align: middle;\n",
       "    }\n",
       "\n",
       "    .dataframe tbody tr th {\n",
       "        vertical-align: top;\n",
       "    }\n",
       "\n",
       "    .dataframe thead th {\n",
       "        text-align: right;\n",
       "    }\n",
       "</style>\n",
       "<table border=\"1\" class=\"dataframe\">\n",
       "  <thead>\n",
       "    <tr style=\"text-align: right;\">\n",
       "      <th></th>\n",
       "      <th>Moyenne_Mobile</th>\n",
       "    </tr>\n",
       "  </thead>\n",
       "  <tbody>\n",
       "    <tr>\n",
       "      <th>881</th>\n",
       "      <td>-0.181589</td>\n",
       "    </tr>\n",
       "    <tr>\n",
       "      <th>725</th>\n",
       "      <td>-0.431276</td>\n",
       "    </tr>\n",
       "    <tr>\n",
       "      <th>541</th>\n",
       "      <td>-0.036314</td>\n",
       "    </tr>\n",
       "    <tr>\n",
       "      <th>860</th>\n",
       "      <td>-0.100104</td>\n",
       "    </tr>\n",
       "    <tr>\n",
       "      <th>832</th>\n",
       "      <td>0.360823</td>\n",
       "    </tr>\n",
       "    <tr>\n",
       "      <th>573</th>\n",
       "      <td>-0.180850</td>\n",
       "    </tr>\n",
       "    <tr>\n",
       "      <th>863</th>\n",
       "      <td>-0.160193</td>\n",
       "    </tr>\n",
       "    <tr>\n",
       "      <th>909</th>\n",
       "      <td>-1.233401</td>\n",
       "    </tr>\n",
       "    <tr>\n",
       "      <th>510</th>\n",
       "      <td>0.184736</td>\n",
       "    </tr>\n",
       "    <tr>\n",
       "      <th>833</th>\n",
       "      <td>0.387234</td>\n",
       "    </tr>\n",
       "    <tr>\n",
       "      <th>597</th>\n",
       "      <td>0.159301</td>\n",
       "    </tr>\n",
       "    <tr>\n",
       "      <th>537</th>\n",
       "      <td>-0.045648</td>\n",
       "    </tr>\n",
       "    <tr>\n",
       "      <th>928</th>\n",
       "      <td>-0.733253</td>\n",
       "    </tr>\n",
       "    <tr>\n",
       "      <th>906</th>\n",
       "      <td>-1.065052</td>\n",
       "    </tr>\n",
       "    <tr>\n",
       "      <th>987</th>\n",
       "      <td>-0.560611</td>\n",
       "    </tr>\n",
       "    <tr>\n",
       "      <th>645</th>\n",
       "      <td>1.803107</td>\n",
       "    </tr>\n",
       "    <tr>\n",
       "      <th>998</th>\n",
       "      <td>-1.438695</td>\n",
       "    </tr>\n",
       "    <tr>\n",
       "      <th>529</th>\n",
       "      <td>-0.212401</td>\n",
       "    </tr>\n",
       "    <tr>\n",
       "      <th>822</th>\n",
       "      <td>0.316109</td>\n",
       "    </tr>\n",
       "    <tr>\n",
       "      <th>874</th>\n",
       "      <td>-0.084077</td>\n",
       "    </tr>\n",
       "    <tr>\n",
       "      <th>508</th>\n",
       "      <td>0.181199</td>\n",
       "    </tr>\n",
       "    <tr>\n",
       "      <th>641</th>\n",
       "      <td>1.787204</td>\n",
       "    </tr>\n",
       "    <tr>\n",
       "      <th>711</th>\n",
       "      <td>-0.537350</td>\n",
       "    </tr>\n",
       "    <tr>\n",
       "      <th>625</th>\n",
       "      <td>0.932304</td>\n",
       "    </tr>\n",
       "    <tr>\n",
       "      <th>854</th>\n",
       "      <td>-0.040172</td>\n",
       "    </tr>\n",
       "    <tr>\n",
       "      <th>862</th>\n",
       "      <td>-0.110457</td>\n",
       "    </tr>\n",
       "    <tr>\n",
       "      <th>795</th>\n",
       "      <td>0.299370</td>\n",
       "    </tr>\n",
       "    <tr>\n",
       "      <th>560</th>\n",
       "      <td>-0.324944</td>\n",
       "    </tr>\n",
       "    <tr>\n",
       "      <th>721</th>\n",
       "      <td>-0.521083</td>\n",
       "    </tr>\n",
       "    <tr>\n",
       "      <th>984</th>\n",
       "      <td>-0.074325</td>\n",
       "    </tr>\n",
       "    <tr>\n",
       "      <th>...</th>\n",
       "      <td>...</td>\n",
       "    </tr>\n",
       "    <tr>\n",
       "      <th>606</th>\n",
       "      <td>0.438534</td>\n",
       "    </tr>\n",
       "    <tr>\n",
       "      <th>813</th>\n",
       "      <td>0.547094</td>\n",
       "    </tr>\n",
       "    <tr>\n",
       "      <th>699</th>\n",
       "      <td>-0.255367</td>\n",
       "    </tr>\n",
       "    <tr>\n",
       "      <th>644</th>\n",
       "      <td>1.747085</td>\n",
       "    </tr>\n",
       "    <tr>\n",
       "      <th>718</th>\n",
       "      <td>-0.531013</td>\n",
       "    </tr>\n",
       "    <tr>\n",
       "      <th>767</th>\n",
       "      <td>-0.115735</td>\n",
       "    </tr>\n",
       "    <tr>\n",
       "      <th>896</th>\n",
       "      <td>-0.585034</td>\n",
       "    </tr>\n",
       "    <tr>\n",
       "      <th>933</th>\n",
       "      <td>-0.802394</td>\n",
       "    </tr>\n",
       "    <tr>\n",
       "      <th>704</th>\n",
       "      <td>-0.501425</td>\n",
       "    </tr>\n",
       "    <tr>\n",
       "      <th>530</th>\n",
       "      <td>-0.336241</td>\n",
       "    </tr>\n",
       "    <tr>\n",
       "      <th>638</th>\n",
       "      <td>1.227454</td>\n",
       "    </tr>\n",
       "    <tr>\n",
       "      <th>522</th>\n",
       "      <td>-0.115791</td>\n",
       "    </tr>\n",
       "    <tr>\n",
       "      <th>763</th>\n",
       "      <td>-0.177705</td>\n",
       "    </tr>\n",
       "    <tr>\n",
       "      <th>749</th>\n",
       "      <td>-0.310900</td>\n",
       "    </tr>\n",
       "    <tr>\n",
       "      <th>957</th>\n",
       "      <td>-0.533772</td>\n",
       "    </tr>\n",
       "    <tr>\n",
       "      <th>610</th>\n",
       "      <td>0.407897</td>\n",
       "    </tr>\n",
       "    <tr>\n",
       "      <th>938</th>\n",
       "      <td>-0.634845</td>\n",
       "    </tr>\n",
       "    <tr>\n",
       "      <th>696</th>\n",
       "      <td>0.045564</td>\n",
       "    </tr>\n",
       "    <tr>\n",
       "      <th>997</th>\n",
       "      <td>-1.339570</td>\n",
       "    </tr>\n",
       "    <tr>\n",
       "      <th>839</th>\n",
       "      <td>0.229259</td>\n",
       "    </tr>\n",
       "    <tr>\n",
       "      <th>916</th>\n",
       "      <td>-0.819251</td>\n",
       "    </tr>\n",
       "    <tr>\n",
       "      <th>788</th>\n",
       "      <td>0.151293</td>\n",
       "    </tr>\n",
       "    <tr>\n",
       "      <th>506</th>\n",
       "      <td>0.229989</td>\n",
       "    </tr>\n",
       "    <tr>\n",
       "      <th>979</th>\n",
       "      <td>0.068233</td>\n",
       "    </tr>\n",
       "    <tr>\n",
       "      <th>517</th>\n",
       "      <td>-0.369091</td>\n",
       "    </tr>\n",
       "    <tr>\n",
       "      <th>656</th>\n",
       "      <td>1.468773</td>\n",
       "    </tr>\n",
       "    <tr>\n",
       "      <th>523</th>\n",
       "      <td>-0.101524</td>\n",
       "    </tr>\n",
       "    <tr>\n",
       "      <th>787</th>\n",
       "      <td>0.100988</td>\n",
       "    </tr>\n",
       "    <tr>\n",
       "      <th>781</th>\n",
       "      <td>0.085423</td>\n",
       "    </tr>\n",
       "    <tr>\n",
       "      <th>889</th>\n",
       "      <td>-0.325752</td>\n",
       "    </tr>\n",
       "  </tbody>\n",
       "</table>\n",
       "<p>151 rows × 1 columns</p>\n",
       "</div>"
      ],
      "text/plain": [
       "     Moyenne_Mobile\n",
       "881       -0.181589\n",
       "725       -0.431276\n",
       "541       -0.036314\n",
       "860       -0.100104\n",
       "832        0.360823\n",
       "573       -0.180850\n",
       "863       -0.160193\n",
       "909       -1.233401\n",
       "510        0.184736\n",
       "833        0.387234\n",
       "597        0.159301\n",
       "537       -0.045648\n",
       "928       -0.733253\n",
       "906       -1.065052\n",
       "987       -0.560611\n",
       "645        1.803107\n",
       "998       -1.438695\n",
       "529       -0.212401\n",
       "822        0.316109\n",
       "874       -0.084077\n",
       "508        0.181199\n",
       "641        1.787204\n",
       "711       -0.537350\n",
       "625        0.932304\n",
       "854       -0.040172\n",
       "862       -0.110457\n",
       "795        0.299370\n",
       "560       -0.324944\n",
       "721       -0.521083\n",
       "984       -0.074325\n",
       "..              ...\n",
       "606        0.438534\n",
       "813        0.547094\n",
       "699       -0.255367\n",
       "644        1.747085\n",
       "718       -0.531013\n",
       "767       -0.115735\n",
       "896       -0.585034\n",
       "933       -0.802394\n",
       "704       -0.501425\n",
       "530       -0.336241\n",
       "638        1.227454\n",
       "522       -0.115791\n",
       "763       -0.177705\n",
       "749       -0.310900\n",
       "957       -0.533772\n",
       "610        0.407897\n",
       "938       -0.634845\n",
       "696        0.045564\n",
       "997       -1.339570\n",
       "839        0.229259\n",
       "916       -0.819251\n",
       "788        0.151293\n",
       "506        0.229989\n",
       "979        0.068233\n",
       "517       -0.369091\n",
       "656        1.468773\n",
       "523       -0.101524\n",
       "787        0.100988\n",
       "781        0.085423\n",
       "889       -0.325752\n",
       "\n",
       "[151 rows x 1 columns]"
      ]
     },
     "execution_count": 37,
     "metadata": {},
     "output_type": "execute_result"
    }
   ],
   "source": [
    "metrics=y_test-linreg.predict(X_test)\n",
    "metrics"
   ]
  },
  {
   "cell_type": "code",
   "execution_count": 38,
   "metadata": {},
   "outputs": [
    {
     "data": {
      "text/html": [
       "<div>\n",
       "<style scoped>\n",
       "    .dataframe tbody tr th:only-of-type {\n",
       "        vertical-align: middle;\n",
       "    }\n",
       "\n",
       "    .dataframe tbody tr th {\n",
       "        vertical-align: top;\n",
       "    }\n",
       "\n",
       "    .dataframe thead th {\n",
       "        text-align: right;\n",
       "    }\n",
       "</style>\n",
       "<table border=\"1\" class=\"dataframe\">\n",
       "  <thead>\n",
       "    <tr style=\"text-align: right;\">\n",
       "      <th></th>\n",
       "      <th>Date</th>\n",
       "      <th>High</th>\n",
       "      <th>Low</th>\n",
       "      <th>Open</th>\n",
       "      <th>Close</th>\n",
       "      <th>Volume</th>\n",
       "      <th>Adj Close</th>\n",
       "      <th>Num</th>\n",
       "      <th>Moyenne_Mobile</th>\n",
       "      <th>Pred</th>\n",
       "    </tr>\n",
       "  </thead>\n",
       "  <tbody>\n",
       "    <tr>\n",
       "      <th>987</th>\n",
       "      <td>2016-02-17</td>\n",
       "      <td>12.30</td>\n",
       "      <td>11.98</td>\n",
       "      <td>11.99</td>\n",
       "      <td>12.27</td>\n",
       "      <td>37766400.0</td>\n",
       "      <td>9.637832</td>\n",
       "      <td>988</td>\n",
       "      <td>13.534500</td>\n",
       "      <td>14.095111</td>\n",
       "    </tr>\n",
       "    <tr>\n",
       "      <th>993</th>\n",
       "      <td>2016-02-25</td>\n",
       "      <td>12.40</td>\n",
       "      <td>12.05</td>\n",
       "      <td>12.11</td>\n",
       "      <td>12.39</td>\n",
       "      <td>32024800.0</td>\n",
       "      <td>9.732090</td>\n",
       "      <td>994</td>\n",
       "      <td>13.306750</td>\n",
       "      <td>14.145635</td>\n",
       "    </tr>\n",
       "    <tr>\n",
       "      <th>994</th>\n",
       "      <td>2016-02-26</td>\n",
       "      <td>12.59</td>\n",
       "      <td>12.40</td>\n",
       "      <td>12.52</td>\n",
       "      <td>12.47</td>\n",
       "      <td>30228800.0</td>\n",
       "      <td>9.794927</td>\n",
       "      <td>995</td>\n",
       "      <td>13.279000</td>\n",
       "      <td>14.315715</td>\n",
       "    </tr>\n",
       "    <tr>\n",
       "      <th>997</th>\n",
       "      <td>2016-03-02</td>\n",
       "      <td>13.35</td>\n",
       "      <td>13.04</td>\n",
       "      <td>13.06</td>\n",
       "      <td>13.22</td>\n",
       "      <td>36598200.0</td>\n",
       "      <td>10.384038</td>\n",
       "      <td>998</td>\n",
       "      <td>13.205125</td>\n",
       "      <td>14.544695</td>\n",
       "    </tr>\n",
       "    <tr>\n",
       "      <th>998</th>\n",
       "      <td>2016-03-03</td>\n",
       "      <td>13.61</td>\n",
       "      <td>13.24</td>\n",
       "      <td>13.25</td>\n",
       "      <td>13.54</td>\n",
       "      <td>44524500.0</td>\n",
       "      <td>10.635389</td>\n",
       "      <td>999</td>\n",
       "      <td>13.187000</td>\n",
       "      <td>14.625695</td>\n",
       "    </tr>\n",
       "  </tbody>\n",
       "</table>\n",
       "</div>"
      ],
      "text/plain": [
       "          Date   High    Low   Open  Close      Volume  Adj Close  Num  \\\n",
       "987 2016-02-17  12.30  11.98  11.99  12.27  37766400.0   9.637832  988   \n",
       "993 2016-02-25  12.40  12.05  12.11  12.39  32024800.0   9.732090  994   \n",
       "994 2016-02-26  12.59  12.40  12.52  12.47  30228800.0   9.794927  995   \n",
       "997 2016-03-02  13.35  13.04  13.06  13.22  36598200.0  10.384038  998   \n",
       "998 2016-03-03  13.61  13.24  13.25  13.54  44524500.0  10.635389  999   \n",
       "\n",
       "     Moyenne_Mobile       Pred  \n",
       "987       13.534500  14.095111  \n",
       "993       13.306750  14.145635  \n",
       "994       13.279000  14.315715  \n",
       "997       13.205125  14.544695  \n",
       "998       13.187000  14.625695  "
      ]
     },
     "execution_count": 38,
     "metadata": {},
     "output_type": "execute_result"
    }
   ],
   "source": [
    "prediction = pd.DataFrame(data = y_hat_test, index = X_test.index.values, columns = [\"Pred\"])\n",
    "\n",
    "prediction.head(5) \n",
    "jointure = Num_ford.join(prediction, how = \"inner\") \n",
    "jointure.tail()"
   ]
  },
  {
   "cell_type": "code",
   "execution_count": 39,
   "metadata": {},
   "outputs": [
    {
     "data": {
      "text/plain": [
       "<matplotlib.legend.Legend at 0x1b6f42a9b70>"
      ]
     },
     "execution_count": 39,
     "metadata": {},
     "output_type": "execute_result"
    },
    {
     "data": {
      "image/png": "[encoded data removed]",
      "text/plain": [
       "<Figure size 432x288 with 1 Axes>"
      ]
     },
     "metadata": {},
     "output_type": "display_data"
    }
   ],
   "source": [
    "fig = plt.figure()\n",
    "ax =fig.add_subplot(111)\n",
    "#### La variable d'ouverture\n",
    "ax.plot(jointure[\"Num\"], jointure[\"Moyenne_Mobile\"], color = (0,0,0), linewidth = 4, alpha = .9,label = \"Moyenne mobile\")\n",
    "#### La prédiction\n",
    "ax.plot(jointure[\"Num\"], jointure[\"Pred\"], color = (1,0,0), label = \"Prediction\")\n",
    "ax.set_title(\"Moyenne mobile vs Régression linéaire\")\n",
    "ax.set_xlabel(\"Num\")\n",
    "ax.set_ylabel(\"Prix\")\n",
    "ax.legend(loc=\"lower right\")"
   ]
  },
  {
   "cell_type": "code",
   "execution_count": 40,
   "metadata": {},
   "outputs": [
    {
     "data": {
      "text/plain": [
       "0.5135172088742537"
      ]
     },
     "execution_count": 40,
     "metadata": {},
     "output_type": "execute_result"
    }
   ],
   "source": [
    "import sklearn\n",
    "\n",
    "r_carre = sklearn.metrics.r2_score(y_test,y_hat_test, multioutput = \"uniform_average\")\n",
    "r_carre"
   ]
  },
  {
   "cell_type": "code",
   "execution_count": 41,
   "metadata": {},
   "outputs": [
    {
     "name": "stdout",
     "output_type": "stream",
     "text": [
      "Squared Mean Error: 0.6103153863592214\n",
      "Mean Absolute Error: 0.4672280532073525\n"
     ]
    }
   ],
   "source": [
    "from sklearn.metrics import mean_squared_error, mean_absolute_error\n",
    "# See our Squared Mean Error score and Root Mean Squared Error:\n",
    "test_mse = mean_squared_error(y_test, y_hat_test)\n",
    "test_rmse = np.sqrt(test_mse)\n",
    "print(\"Squared Mean Error:\",test_rmse)\n",
    "# See our Mean Absolute Error\n",
    "test_mae = mean_absolute_error(y_test, y_hat_test)\n",
    "print(\"Mean Absolute Error:\",test_mae)\n"
   ]
  },
  {
   "cell_type": "code",
   "execution_count": 42,
   "metadata": {},
   "outputs": [
    {
     "name": "stdout",
     "output_type": "stream",
     "text": [
      "5 fold cross validation score: [ 0.20772396 -2.85173717 -0.85084805  0.44338012 -6.65620061]\n"
     ]
    }
   ],
   "source": [
    "cv_5_results = cross_val_score(linreg, X, y, cv=5)\n",
    "print(\"5 fold cross validation score:\",cv_5_results)"
   ]
  }
 ],
 "metadata": {
  "kernelspec": {
   "display_name": "Python 3",
   "language": "python",
   "name": "python3"
  },
  "language_info": {
   "codemirror_mode": {
    "name": "ipython",
    "version": 3
   },
   "file_extension": ".py",
   "mimetype": "text/x-python",
   "name": "python",
   "nbconvert_exporter": "python",
   "pygments_lexer": "ipython3",
   "version": "3.6.5"
  }
 },
 "nbformat": 4,
 "nbformat_minor": 2
}
