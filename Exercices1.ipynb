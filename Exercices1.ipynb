{
 "cells": [
  {
   "cell_type": "markdown",
   "metadata": {},
   "source": [
    "# Exercices (première partie du cours)\n",
    "\n",
    "### 1. Exercices fonctions\n",
    "\n",
    "**Rappel : une fonction appelée \"Somme\" qui prend deux arguments et qui renvoie la somme des deux s'écrit :**"
   ]
  },
  {
   "cell_type": "code",
   "execution_count": 1,
   "metadata": {},
   "outputs": [
    {
     "data": {
      "text/plain": [
       "5"
      ]
     },
     "execution_count": 1,
     "metadata": {},
     "output_type": "execute_result"
    }
   ],
   "source": [
    "# on définit la fonction Somme\n",
    "\n",
    "def Somme(argument1,argument2):  \n",
    "    return (argument1 + argument2)\n",
    "\n",
    "# on appelle la fonction Somme avec les arguments 2 et 3\n",
    "\n",
    "Somme(2,3)\n",
    "\n",
    "# la fonction nous retourne 2+3 = 5"
   ]
  },
  {
   "cell_type": "markdown",
   "metadata": {},
   "source": [
    "**Rappel bis : on peut créer une liste de k à n avec range(k,n+1) et on peut parcourir cette liste en utilisant la commande for i in range (k,n+1)**"
   ]
  },
  {
   "cell_type": "code",
   "execution_count": 2,
   "metadata": {},
   "outputs": [
    {
     "name": "stdout",
     "output_type": "stream",
     "text": [
      "[3, 4, 5, 6]\n",
      "[0, 1, 2, 3, 4, 5, 6]\n",
      "0\n",
      "1\n",
      "2\n",
      "3\n",
      "4\n",
      "5\n",
      "6\n"
     ]
    }
   ],
   "source": [
    "print(list(range(3,7)))\n",
    "print(list(range(7)))\n",
    "for i in range (7):\n",
    "    print(i)"
   ]
  },
  {
   "cell_type": "markdown",
   "metadata": {},
   "source": [
    "#### 1.1 Ecrire un programme qui demande l'âge de l'utilisateur et qui lui renvoie l'année où il aura 100 ans\n",
    "\n",
    "Rappel : on receuille des informations avec la commande input ( \" message à aficher \" ), la variable est alors une chaine de caractères (str)"
   ]
  },
  {
   "cell_type": "code",
   "execution_count": 3,
   "metadata": {},
   "outputs": [
    {
     "ename": "SyntaxError",
     "evalue": "invalid syntax (<ipython-input-3-6ec916675ed2>, line 2)",
     "output_type": "error",
     "traceback": [
      "\u001b[1;36m  File \u001b[1;32m\"<ipython-input-3-6ec916675ed2>\"\u001b[1;36m, line \u001b[1;32m2\u001b[0m\n\u001b[1;33m    if age==100\u001b[0m\n\u001b[1;37m               ^\u001b[0m\n\u001b[1;31mSyntaxError\u001b[0m\u001b[1;31m:\u001b[0m invalid syntax\n"
     ]
    }
   ],
   "source": [
    "age=raw_input(\"what is our age: \")\n",
    "if age ==100\n",
    "print \"your age is 100\""
   ]
  },
  {
   "cell_type": "markdown",
   "metadata": {},
   "source": [
    "#### 1.2 Ecrire unne fonction qui prend en entrée un entier et qui retourne un message disant si le nombre est pair ou impair\n",
    "\n",
    "Indice : utiliser le reste de la division euclidienne par 2 ( x%2 ) "
   ]
  },
  {
   "cell_type": "code",
   "execution_count": null,
   "metadata": {},
   "outputs": [],
   "source": []
  },
  {
   "cell_type": "markdown",
   "metadata": {},
   "source": [
    "#### 1.3 Ecrire une fonction prenant deux nombres en argument et renvoyant True si le deuxième divise le premier, False sinon\n"
   ]
  },
  {
   "cell_type": "code",
   "execution_count": null,
   "metadata": {},
   "outputs": [],
   "source": []
  },
  {
   "cell_type": "markdown",
   "metadata": {},
   "source": [
    "#### 1.4 Ecrire une fonction utilisant la fonction précédente et renvoyant la liste de tous les diviseurs d'un nombre donné en argument\n"
   ]
  },
  {
   "cell_type": "code",
   "execution_count": null,
   "metadata": {},
   "outputs": [],
   "source": []
  },
  {
   "cell_type": "markdown",
   "metadata": {},
   "source": [
    "#### 1.5 Ecrire une fonction qui prend en entrée deux listes et qui renvoie une liste contenant uniquement les éléments en commun des deux listes\n",
    "\n",
    "Tester la fonction avec L1=[3,7,1,5] et L2=[5,4,11,7,9,8]"
   ]
  },
  {
   "cell_type": "code",
   "execution_count": null,
   "metadata": {},
   "outputs": [],
   "source": []
  },
  {
   "cell_type": "markdown",
   "metadata": {},
   "source": [
    "#### 1.6 Ecrire un programme qui demande à l'utilisateur un mot et lui dit si c'est un palindrome\n",
    "\n",
    "Rappel : Un palindrome est un mot qui se lit de la même façon de gauche à droite et de droite à gauche (ex : kayak, rotor)"
   ]
  },
  {
   "cell_type": "code",
   "execution_count": null,
   "metadata": {},
   "outputs": [],
   "source": []
  },
  {
   "cell_type": "markdown",
   "metadata": {},
   "source": [
    "#### 1.7 Générez un nombre entier entre 1 et 9 et demandez à l'utilisateur d'essayer de le deviner. Tant qu'il ne le trouve pas, dites-lui si le nombre est plus petit ou plus grand et demandez lui de redeviner\n",
    "\n",
    "Rappel : Pour générer un nombre entier aléatoire, on utilisera la fonction randint de la librairie random"
   ]
  },
  {
   "cell_type": "code",
   "execution_count": null,
   "metadata": {},
   "outputs": [],
   "source": [
    "from random import randint\n",
    "\n"
   ]
  },
  {
   "cell_type": "markdown",
   "metadata": {},
   "source": [
    "#### 1.8 Ecrire une fonction utilisant la fonction 1.4 pour savoir si un nombre donné en argument est premier ou pas \n",
    "\n",
    "Rappel : Un nombre premier est un nombre ayant pour uniques diviseurs 1 et lui même"
   ]
  },
  {
   "cell_type": "code",
   "execution_count": null,
   "metadata": {},
   "outputs": [],
   "source": []
  },
  {
   "cell_type": "markdown",
   "metadata": {},
   "source": [
    "#### 1.9  Ecrire une fonction qui génère automatiquement un mot de passe sécurisé. On considère un mot de passe sécurisé un mot d'au moins 7 caractères avec un mix de lettres minuscules, majuscules, nombres et symboles."
   ]
  },
  {
   "cell_type": "code",
   "execution_count": null,
   "metadata": {},
   "outputs": [],
   "source": []
  }
 ],
 "metadata": {
  "kernelspec": {
   "display_name": "Python 3",
   "language": "python",
   "name": "python3"
  },
  "language_info": {
   "codemirror_mode": {
    "name": "ipython",
    "version": 3
   },
   "file_extension": ".py",
   "mimetype": "text/x-python",
   "name": "python",
   "nbconvert_exporter": "python",
   "pygments_lexer": "ipython3",
   "version": "3.6.5"
  }
 },
 "nbformat": 4,
 "nbformat_minor": 2
}
