{
 "cells": [
  {
   "cell_type": "markdown",
   "metadata": {},
   "source": [
    "# Exercices (deuxième partie du cours)\n",
    "\n",
    "### 2. Exercices sur les fichiers et sur les modules numpy / matplotlib"
   ]
  },
  {
   "cell_type": "markdown",
   "metadata": {},
   "source": [
    "#### 2.1 Ecrire un programme qui simule 1000 lancés de pièce et qui écrit les résultats dans un fichier texte sous forme de 0 et 1\n",
    "\n",
    "Rappel : on écrit dans un fichier texte avec la fonction fichier = open(\"data.txt\", \"w\"), fichier.write(\"Bonjour\"), fichier.close()"
   ]
  },
  {
   "cell_type": "code",
   "execution_count": null,
   "metadata": {},
   "outputs": [],
   "source": [
    "from random import randint\n"
   ]
  },
  {
   "cell_type": "markdown",
   "metadata": {},
   "source": [
    "#### 2.2 Ecrire un programme qui ouvre le fichier texte créé précédemment et qui compte le nombre de 1 et de 0\n",
    "\n",
    "Rappel : on lit un fichier texte avec la fonction fichier = open(\"data.txt\", \"r\"), fichier.read(), fichier.close()"
   ]
  },
  {
   "cell_type": "code",
   "execution_count": null,
   "metadata": {},
   "outputs": [],
   "source": []
  },
  {
   "cell_type": "markdown",
   "metadata": {},
   "source": [
    "#### 2.3 Utiliser la fonction python max() pour retourner le maximum d'une liste donnée\n",
    "\n",
    "On utilisera la liste L=[32,2,1,4,2,9,21,24,23,42,52,1,3]"
   ]
  },
  {
   "cell_type": "code",
   "execution_count": null,
   "metadata": {},
   "outputs": [],
   "source": []
  },
  {
   "cell_type": "markdown",
   "metadata": {},
   "source": [
    "#### 2.4 Reprendre l'exercice du lancé de pièce en simulant cette fois 10000 fois le lancé de 100 pièces, on comptera le nombre de chacune des sommes\n",
    "\n",
    "Exemple : on lance 100 fois un pièce, on obtient 68 fois le 1. Ainsi, on a obtenu une fois 68. On répète 1000 fois cette opération"
   ]
  },
  {
   "cell_type": "code",
   "execution_count": null,
   "metadata": {},
   "outputs": [],
   "source": []
  },
  {
   "cell_type": "markdown",
   "metadata": {},
   "source": [
    "#### 2.5 Visualiser le résultat précédent sous la forme d'un histogramme en barres\n",
    "\n",
    "Indice : On utilisera la bibliothèque matplotlib (import matplotlib.pyplot as plt) et la méthode plt.bar(axe,valeurs)"
   ]
  },
  {
   "cell_type": "code",
   "execution_count": null,
   "metadata": {},
   "outputs": [],
   "source": [
    "import matplotlib.pyplot as plt\n",
    "\n"
   ]
  },
  {
   "cell_type": "markdown",
   "metadata": {},
   "source": [
    "#### 2.6 Tracer la fonction cosinus entre -10 et 10\n",
    "\n",
    "Rappel : On utilisera la bibliothèque numpy pour générer l'axe des abscisses avec numpy.linspace(start,stop,nb points) et np.cos(x) pour la fonction cosinus"
   ]
  },
  {
   "cell_type": "code",
   "execution_count": null,
   "metadata": {},
   "outputs": [],
   "source": [
    "import numpy as np\n"
   ]
  }
 ],
 "metadata": {
  "kernelspec": {
   "display_name": "Python 3",
   "language": "python",
   "name": "python3"
  },
  "language_info": {
   "codemirror_mode": {
    "name": "ipython",
    "version": 3
   },
   "file_extension": ".py",
   "mimetype": "text/x-python",
   "name": "python",
   "nbconvert_exporter": "python",
   "pygments_lexer": "ipython3",
   "version": "3.7.3"
  }
 },
 "nbformat": 4,
 "nbformat_minor": 2
}
